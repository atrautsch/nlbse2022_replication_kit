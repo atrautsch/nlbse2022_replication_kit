{
 "cells": [
  {
   "cell_type": "code",
   "execution_count": 1,
   "id": "15e623c6-7985-406d-964a-481c4a69e5a2",
   "metadata": {},
   "outputs": [],
   "source": [
    "from transformers import BertTokenizer, BertForSequenceClassification, pipeline"
   ]
  },
  {
   "cell_type": "code",
   "execution_count": 2,
   "id": "85fed70a-6a70-4738-97dc-4bbfa58a8ae2",
   "metadata": {},
   "outputs": [],
   "source": [
    "MODEL_PATH = '../models/nlbse/'\n",
    "\n",
    "model = BertForSequenceClassification.from_pretrained(MODEL_PATH)\n",
    "tokenizer = BertTokenizer.from_pretrained(MODEL_PATH)\n",
    "\n",
    "# we chose the next matching pipeline that supports our workflow which is sentiment-analysis from huggingface\n",
    "livetest = pipeline('sentiment-analysis', model=model, tokenizer=tokenizer)"
   ]
  },
  {
   "cell_type": "code",
   "execution_count": 3,
   "id": "25d814f9-f0d9-4845-801c-dcc2ee21b70d",
   "metadata": {},
   "outputs": [],
   "source": [
    "def feed(text):\n",
    "    result = livetest(text)\n",
    "    label_map = {'LABEL_0': 'bug',\n",
    "                 'LABEL_1': 'enhancement',\n",
    "                 'LABEL_2': 'question'}\n",
    "    answer = {label_map[x['label']]: round(x['score'], 4) for x in result}\n",
    "    print(text)\n",
    "    print('\\nclassified as:')\n",
    "    print(answer)"
   ]
  },
  {
   "cell_type": "code",
   "execution_count": 4,
   "id": "541498aa-6a70-4978-a1a7-052944764d39",
   "metadata": {},
   "outputs": [
    {
     "name": "stdout",
     "output_type": "stream",
     "text": [
      "I have a question\n",
      "about this.\n",
      "\n",
      "\n",
      "classified as:\n",
      "{'question': 0.7116}\n"
     ]
    }
   ],
   "source": [
    "text = \"\"\"I have a question\n",
    "about this.\n",
    "\"\"\"\n",
    "\n",
    "feed(text)"
   ]
  },
  {
   "cell_type": "code",
   "execution_count": 5,
   "id": "26a90148-d199-4f31-b938-92cb6fde7826",
   "metadata": {},
   "outputs": [
    {
     "name": "stdout",
     "output_type": "stream",
     "text": [
      "This function does not work as expected\n",
      "\n",
      "\n",
      "classified as:\n",
      "{'bug': 0.942}\n"
     ]
    }
   ],
   "source": [
    "text = \"\"\"This function does not work as expected\n",
    "\"\"\"\n",
    "\n",
    "feed(text)"
   ]
  },
  {
   "cell_type": "code",
   "execution_count": 6,
   "id": "a33069ba-03f7-48a8-8105-9ca7ef05eeb9",
   "metadata": {},
   "outputs": [
    {
     "name": "stdout",
     "output_type": "stream",
     "text": [
      "We should improve this.\n",
      "\n",
      "\n",
      "classified as:\n",
      "{'enhancement': 0.8487}\n"
     ]
    }
   ],
   "source": [
    "text = \"\"\"We should improve this.\n",
    "\"\"\"\n",
    "\n",
    "feed(text)"
   ]
  }
 ],
 "metadata": {
  "kernelspec": {
   "display_name": "Python 3 (ipykernel)",
   "language": "python",
   "name": "python3"
  },
  "language_info": {
   "codemirror_mode": {
    "name": "ipython",
    "version": 3
   },
   "file_extension": ".py",
   "mimetype": "text/x-python",
   "name": "python",
   "nbconvert_exporter": "python",
   "pygments_lexer": "ipython3",
   "version": "3.8.12"
  }
 },
 "nbformat": 4,
 "nbformat_minor": 5
}
